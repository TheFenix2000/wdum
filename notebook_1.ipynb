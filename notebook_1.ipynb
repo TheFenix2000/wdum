{
 "cells": [
  {
   "cell_type": "markdown",
   "metadata": {},
   "source": [
    "# Zadanie 1"
   ]
  },
  {
   "cell_type": "markdown",
   "metadata": {},
   "source": [
    "### Import potrzebnych pibliotek"
   ]
  },
  {
   "cell_type": "code",
   "execution_count": null,
   "metadata": {},
   "outputs": [],
   "source": [
    "import matplotlib.pyplot as plt\n",
    "import numpy as np\n",
    "import pandas as pd\n",
    "from sklearn.linear_model import LinearRegression\n",
    "from pathlib import Path\n",
    "from sklearn.neighbors import KNeighborsRegressor\n",
    "\n",
    "np.random.seed(42)"
   ]
  },
  {
   "cell_type": "markdown",
   "metadata": {},
   "source": [
    "### Wczytanie danych"
   ]
  },
  {
   "cell_type": "code",
   "execution_count": null,
   "metadata": {},
   "outputs": [],
   "source": [
    "datapath = Path(\"d:/m_w/wdum\") / \"data\" / \"lifesat\"\n",
    "\n",
    "oecd_bli = pd.read_csv(datapath / \"oecd_bli.csv\")\n",
    "gdp_per_capita = pd.read_csv(datapath / \"gdp_per_capita.csv\")\n",
    "# display(oecd_bli)\n",
    "# display(gdp_per_capita)"
   ]
  },
  {
   "cell_type": "markdown",
   "metadata": {},
   "source": [
    "### Obróbka gdp per capita"
   ]
  },
  {
   "cell_type": "code",
   "execution_count": null,
   "metadata": {},
   "outputs": [],
   "source": [
    "gdp_per_capita_2020 = gdp_per_capita[gdp_per_capita[\"Year\"]==2020]\n",
    "gdp_per_capita_2020 = gdp_per_capita_2020.rename(\n",
    "    columns={\"GDP per capita, PPP (constant 2017 international $)\": \"GDP per capita $\"})\n",
    "gdp_per_capita_2020"
   ]
  },
  {
   "cell_type": "code",
   "execution_count": null,
   "metadata": {},
   "outputs": [],
   "source": [
    "# oecd_bli[\"Indicator\"].value_counts() // nie wiem co to tu robi"
   ]
  },
  {
   "cell_type": "markdown",
   "metadata": {},
   "source": [
    "### Obróbka oecd bil"
   ]
  },
  {
   "cell_type": "code",
   "execution_count": null,
   "metadata": {},
   "outputs": [],
   "source": [
    "oecd_bli = oecd_bli[oecd_bli[\"INEQUALITY\"]==\"TOT\"]\n",
    "oecd_bli = oecd_bli.pivot(index=\"Country\", columns=\"Indicator\", values=\"Value\")\n",
    "oecd_bli = oecd_bli.reset_index()\n",
    "oecd_bli"
   ]
  },
  {
   "cell_type": "markdown",
   "metadata": {},
   "source": [
    "### Obróbka i stworzenie danych dla krajów z połączenia oecd i gdp"
   ]
  },
  {
   "cell_type": "code",
   "execution_count": null,
   "metadata": {},
   "outputs": [],
   "source": [
    "full_country_stats = oecd_bli.merge(gdp_per_capita_2020, left_on=\"Country\", right_on=\"Entity\", how=\"inner\")\n",
    "full_country_stats = full_country_stats[[\"Country\",\"Life satisfaction\", \"GDP per capita $\"]]\n",
    "full_country_stats = full_country_stats.sort_values(by=\"GDP per capita $\")\n",
    "full_country_stats"
   ]
  },
  {
   "cell_type": "markdown",
   "metadata": {},
   "source": [
    "### Wyeksportowanie danych dla krajów do csv"
   ]
  },
  {
   "cell_type": "code",
   "execution_count": null,
   "metadata": {},
   "outputs": [],
   "source": [
    "full_country_stats.to_csv(datapath / \"lifestat_full.csv\", index=False)"
   ]
  },
  {
   "cell_type": "markdown",
   "metadata": {},
   "source": [
    "### Zawężenie i eksport danych lifesat"
   ]
  },
  {
   "cell_type": "code",
   "execution_count": null,
   "metadata": {},
   "outputs": [],
   "source": [
    "min_gdp = 23_500\n",
    "max_gdp = 62_500\n",
    "\n",
    "country_stats = full_country_stats[(full_country_stats[\"GDP per capita $\"] >= min_gdp) & (full_country_stats[\"GDP per capita $\"] <= max_gdp)]\n",
    "country_stats.to_csv(datapath / \"lifesat.csv\", index=False)"
   ]
  },
  {
   "cell_type": "markdown",
   "metadata": {},
   "source": [
    "### Wczytanie csv i obróbka lifesat"
   ]
  },
  {
   "cell_type": "code",
   "execution_count": null,
   "metadata": {},
   "outputs": [],
   "source": [
    "lifesat = pd.read_csv(datapath / \"lifesat.csv\")\n",
    "\n",
    "lifesat.rename(columns={\"GDP per capita $\": \"PKB na mieszkanca (USD)\"}, inplace=True)\n",
    "lifesat.rename(columns={\"Life satisfaction\": \"Satysfakcja z zycia\"}, inplace=True)\n",
    "lifesat.rename(columns={\"Country\": \"Kraj\"}, inplace=True)\n",
    "lifesat"
   ]
  },
  {
   "cell_type": "markdown",
   "metadata": {},
   "source": [
    "### Wizualizacja danych lifesat"
   ]
  },
  {
   "cell_type": "code",
   "execution_count": null,
   "metadata": {},
   "outputs": [],
   "source": [
    "lifesat.plot(kind=\"scatter\", grid=True, x=\"PKB na mieszkanca (USD)\", y=\"Satysfakcja z zycia\")\n",
    "plt.show()"
   ]
  },
  {
   "cell_type": "markdown",
   "metadata": {},
   "source": [
    "### Przygotowanie modelu regresji liniowej"
   ]
  },
  {
   "cell_type": "code",
   "execution_count": null,
   "metadata": {},
   "outputs": [],
   "source": [
    "x = lifesat[[\"PKB na mieszkanca (USD)\"]]\n",
    "y = lifesat[[\"Satysfakcja z zycia\"]]\n",
    "\n",
    "model = LinearRegression() # wybranie modely\n",
    "\n",
    "model.fit(x, y) # trenuje model regresji na naszych wartościach\n",
    "\n",
    "theta_0 = model.intercept_[0] # zwraca thata_0 z funkcji satysfakcja z życia = theta_0 + theta_1 * x\n",
    "theta_1 = model.coef_[0][0] # zwraca theta_1\n",
    "print(\"theta_0: \", theta_0)\n",
    "print(\"theta_1: \", theta_1)"
   ]
  },
  {
   "cell_type": "markdown",
   "metadata": {},
   "source": [
    "### Wizualizacja modelu regresji liniowej"
   ]
  },
  {
   "cell_type": "code",
   "execution_count": null,
   "metadata": {},
   "outputs": [],
   "source": [
    "lifesat.plot(kind=\"scatter\", grid=True, x=\"PKB na mieszkanca (USD)\", y=\"Satysfakcja z zycia\") # wykres punktowy pkb i satysfakcji\n",
    "plt.plot(x, theta_0+theta_1*x) # wykres liniowy zależnosci\n",
    "plt.text(45000, 6.5, fr\"$\\theta_0 = {theta_0.round(2)}$\", color=\"blue\") # podpisanie thety 0\n",
    "plt.text(45000, 6.3, fr\"$\\theta_1 = {theta_1 * 1e5:.2f}\\cdot 10^{{-5}}$\", color=\"blue\") # podpisanie thety 1\n",
    "plt.title(\"Zależnosć miedzy satysfakcją z życia, a PKB na mieszkańca\")\n",
    "\n",
    "plt.show()"
   ]
  },
  {
   "cell_type": "markdown",
   "metadata": {},
   "source": [
    "### Stworzenie kolumny z pkb Cypru"
   ]
  },
  {
   "cell_type": "code",
   "execution_count": null,
   "metadata": {},
   "outputs": [],
   "source": [
    "cyprus_pkb = (\n",
    "    gdp_per_capita_2020[gdp_per_capita_2020[\"Entity\"] == \"Cyprus\"][[\"GDP per capita $\"]])\n",
    "cyprus_pkb.rename(columns={\"GDP per capita $\": \"PKB na mieszkanca (USD)\"}, inplace=True)\n",
    "cyprus_pkb"
   ]
  },
  {
   "cell_type": "markdown",
   "metadata": {},
   "source": [
    "### Uzycie wytrenowanego modelu do obliczenia poziomu szczęścia na podstawie pkb cypru"
   ]
  },
  {
   "cell_type": "code",
   "execution_count": null,
   "metadata": {},
   "outputs": [],
   "source": [
    "cyprus_predicted = model.predict(cyprus_pkb)\n",
    "cyprus_predicted"
   ]
  },
  {
   "cell_type": "markdown",
   "metadata": {},
   "source": [
    "### Zamiana modelu regresji liniowej na model najbliższych sąsiadów"
   ]
  },
  {
   "cell_type": "code",
   "execution_count": null,
   "metadata": {},
   "outputs": [],
   "source": [
    "model_knn = KNeighborsRegressor(n_neighbors=3)\n",
    "\n",
    "model_knn.fit(x,y)\n",
    "model_knn.predict(cyprus_pkb)"
   ]
  }
 ],
 "metadata": {
  "kernelspec": {
   "display_name": "Python 3",
   "language": "python",
   "name": "python3"
  },
  "language_info": {
   "codemirror_mode": {
    "name": "ipython",
    "version": 3
   },
   "file_extension": ".py",
   "mimetype": "text/x-python",
   "name": "python",
   "nbconvert_exporter": "python",
   "pygments_lexer": "ipython3",
   "version": "3.11.5"
  }
 },
 "nbformat": 4,
 "nbformat_minor": 2
}
